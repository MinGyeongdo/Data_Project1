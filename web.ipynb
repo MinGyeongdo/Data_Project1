{
  "nbformat": 4,
  "nbformat_minor": 0,
  "metadata": {
    "colab": {
      "name": "Untitled4.ipynb",
      "provenance": [],
      "authorship_tag": "ABX9TyNc8x6wpJOZOEirP4+9gdUW",
      "include_colab_link": true
    },
    "kernelspec": {
      "name": "python3",
      "display_name": "Python 3"
    },
    "language_info": {
      "name": "python"
    }
  },
  "cells": [
    {
      "cell_type": "markdown",
      "metadata": {
        "id": "view-in-github",
        "colab_type": "text"
      },
      "source": [
        "<a href=\"https://colab.research.google.com/github/MinGyeongdo/Data_Project1/blob/main/web.ipynb\" target=\"_parent\"><img src=\"https://colab.research.google.com/assets/colab-badge.svg\" alt=\"Open In Colab\"/></a>"
      ]
    },
    {
      "cell_type": "code",
      "source": [
        "!pip install fake_useragent"
      ],
      "metadata": {
        "id": "lLB2-aYx-Tko",
        "outputId": "eb3a1cc4-b4a9-417c-81a9-e40c7ee8ab34",
        "colab": {
          "base_uri": "https://localhost:8080/"
        }
      },
      "execution_count": 2,
      "outputs": [
        {
          "output_type": "stream",
          "name": "stdout",
          "text": [
            "Looking in indexes: https://pypi.org/simple, https://us-python.pkg.dev/colab-wheels/public/simple/\n",
            "Collecting fake_useragent\n",
            "  Downloading fake-useragent-0.1.11.tar.gz (13 kB)\n",
            "Building wheels for collected packages: fake-useragent\n",
            "  Building wheel for fake-useragent (setup.py) ... \u001b[?25l\u001b[?25hdone\n",
            "  Created wheel for fake-useragent: filename=fake_useragent-0.1.11-py3-none-any.whl size=13502 sha256=b2e28984cf14bce4831ce37f5620d7a66c06645a0c64825eb912b72aee2bb5a1\n",
            "  Stored in directory: /root/.cache/pip/wheels/ed/f7/62/50ab6c9a0b5567267ab76a9daa9d06315704209b2c5d032031\n",
            "Successfully built fake-useragent\n",
            "Installing collected packages: fake-useragent\n",
            "Successfully installed fake-useragent-0.1.11\n"
          ]
        }
      ]
    },
    {
      "cell_type": "code",
      "execution_count": 3,
      "metadata": {
        "id": "cdUIu0Wz8k49"
      },
      "outputs": [],
      "source": [
        "import requests\n",
        "from requests import get\n",
        "from bs4 import BeautifulSoup\n",
        "import numpy as np\n",
        "from fake_useragent import UserAgent"
      ]
    },
    {
      "cell_type": "code",
      "source": [
        "# useragent 생성 및 header 정보 생성\n",
        "ua = UserAgent(verify_ssl=False)\n",
        "headers = {'User-Agent': ua.random}"
      ],
      "metadata": {
        "id": "NPYfP6Fa-aE5",
        "outputId": "76c7763c-cdfd-4995-9488-537c278b9d45",
        "colab": {
          "base_uri": "https://localhost:8080/"
        }
      },
      "execution_count": 4,
      "outputs": [
        {
          "output_type": "stream",
          "name": "stderr",
          "text": [
            "WARNING:fake_useragent:Error occurred during loading data. Trying to use cache server https://fake-useragent.herokuapp.com/browsers/0.1.11\n",
            "Traceback (most recent call last):\n",
            "  File \"/usr/local/lib/python3.7/dist-packages/fake_useragent/utils.py\", line 154, in load\n",
            "    for item in get_browsers(verify_ssl=verify_ssl):\n",
            "  File \"/usr/local/lib/python3.7/dist-packages/fake_useragent/utils.py\", line 99, in get_browsers\n",
            "    html = html.split('<table class=\"w3-table-all notranslate\">')[1]\n",
            "IndexError: list index out of range\n"
          ]
        }
      ]
    },
    {
      "cell_type": "code",
      "source": [
        "# url 응답요청"
      ],
      "metadata": {
        "id": "U9dcupRE-oGa"
      },
      "execution_count": null,
      "outputs": []
    }
  ]
}